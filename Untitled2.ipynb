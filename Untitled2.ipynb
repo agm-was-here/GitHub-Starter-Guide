{
  "nbformat": 4,
  "nbformat_minor": 0,
  "metadata": {
    "colab": {
      "name": "Untitled2.ipynb",
      "provenance": [],
      "authorship_tag": "ABX9TyNGkseb3kyuvBCxYQCZ8+Nc"
    },
    "kernelspec": {
      "name": "python3",
      "display_name": "Python 3"
    },
    "language_info": {
      "name": "python"
    }
  },
  "cells": [
    {
      "cell_type": "code",
      "metadata": {
        "id": "m3OqarNqsXPB"
      },
      "source": [
        "import numpy as np\n"
      ],
      "execution_count": null,
      "outputs": []
    },
    {
      "cell_type": "code",
      "metadata": {
        "colab": {
          "base_uri": "https://localhost:8080/"
        },
        "id": "YKMh9yRnseeL",
        "outputId": "649e1208-01a1-4da4-f921-cde7969c528b"
      },
      "source": [
        "a=np.array([(2,3,4,5),(4,5,6,7,)])\n",
        "print(a)"
      ],
      "execution_count": null,
      "outputs": [
        {
          "output_type": "stream",
          "text": [
            "[[2 3 4 5]\n",
            " [4 5 6 7]]\n"
          ],
          "name": "stdout"
        }
      ]
    },
    {
      "cell_type": "code",
      "metadata": {
        "colab": {
          "base_uri": "https://localhost:8080/"
        },
        "id": "9I4v1mUitJg2",
        "outputId": "13f843b9-e4b0-473a-baf8-6d38724603c2"
      },
      "source": [
        "print(a.dtype)"
      ],
      "execution_count": null,
      "outputs": [
        {
          "output_type": "stream",
          "text": [
            "int64\n"
          ],
          "name": "stdout"
        }
      ]
    },
    {
      "cell_type": "code",
      "metadata": {
        "colab": {
          "base_uri": "https://localhost:8080/"
        },
        "id": "anZFX5PtxZ_v",
        "outputId": "f00e28e2-16b8-4f3d-a272-024b2fa83be4"
      },
      "source": [
        "print(a.size)\n",
        "print(a.shape)"
      ],
      "execution_count": null,
      "outputs": [
        {
          "output_type": "stream",
          "text": [
            "8\n",
            "(2, 4)\n"
          ],
          "name": "stdout"
        }
      ]
    }
  ]
}